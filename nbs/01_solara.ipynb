{
 "cells": [
  {
   "cell_type": "code",
   "execution_count": null,
   "metadata": {},
   "outputs": [],
   "source": [
    "---\n",
    "skip_exec: true\n",
    "---"
   ]
  },
  {
   "cell_type": "markdown",
   "id": "c4a0113d-e7e7-4f72-abf6-a57d558a387d",
   "metadata": {},
   "source": [
    "# Solara"
   ]
  },
  {
   "cell_type": "code",
   "execution_count": null,
   "id": "2d2b9128",
   "metadata": {},
   "outputs": [],
   "source": [
    "#| default_exp solara"
   ]
  },
  {
   "cell_type": "code",
   "execution_count": null,
   "id": "742ff691-6918-40b1-988a-654f064a9f4a",
   "metadata": {},
   "outputs": [],
   "source": [
    "#| exporti\n",
    "import solara\n",
    "import pandas as pd\n",
    "import matplotlib.pyplot as plt"
   ]
  },
  {
   "cell_type": "code",
   "execution_count": null,
   "id": "2cc1f659-35ab-47b0-bf7a-9ccdfa6446c1",
   "metadata": {},
   "outputs": [],
   "source": [
    "#| export\n",
    "df = pd.read_csv('turma_matricula_docente_filtrados.csv')"
   ]
  },
  {
   "cell_type": "code",
   "execution_count": null,
   "id": "e3096cdb-a442-46bf-ac32-cee04f2ed427",
   "metadata": {},
   "outputs": [],
   "source": [
    "#| export\n",
    "unidade = solara.reactive(None)\n",
    "componente = solara.reactive(None)\n",
    "docente = solara.reactive(None)"
   ]
  },
  {
   "cell_type": "code",
   "execution_count": null,
   "id": "df16bfb3-032d-46fd-ae7c-db8b3bd93cbd",
   "metadata": {},
   "outputs": [],
   "source": [
    "#| export\n",
    "@solara.component\n",
    "def SelectUnidade():\n",
    "    values = pd.unique(df['unidade_responsavel']).tolist()\n",
    "    solara.Select(label=\"Unidade\", value=unidade, values=values)"
   ]
  },
  {
   "cell_type": "code",
   "execution_count": null,
   "id": "e0a92d5e-4eea-4684-bb2a-2dfad9867a12",
   "metadata": {},
   "outputs": [],
   "source": [
    "#| export\n",
    "@solara.component\n",
    "def SelectComponente():\n",
    "    df_unidade = df[df['unidade_responsavel'] == unidade.value]\n",
    "    values = pd.unique(df_unidade['nome_componente']).tolist()\n",
    "    solara.Select(label=\"Componente\", value=componente, values=values)"
   ]
  },
  {
   "cell_type": "code",
   "execution_count": null,
   "id": "f81155f4-aed0-4803-a15b-ffc2a6be94f7",
   "metadata": {},
   "outputs": [],
   "source": [
    "#| export\n",
    "@solara.component\n",
    "def SelectDocente():\n",
    "    df_unidade = df[df['unidade_responsavel'] == unidade.value]\n",
    "    df_componente = df_unidade[df_unidade['nome_componente'] == componente.value]\n",
    "    values = pd.unique(df_componente['nome_docente']).tolist()\n",
    "    solara.Select(label=\"Docente\", value=docente, values=values)"
   ]
  },
  {
   "cell_type": "code",
   "execution_count": null,
   "id": "2ec21910-fba2-4b0f-8c47-d88f6d8f0f30",
   "metadata": {},
   "outputs": [],
   "source": [
    "#| export\n",
    "def PieChart():\n",
    "    df_unidade = df[df['unidade_responsavel'] == unidade.value]\n",
    "    df_componente = df_unidade[df_unidade['nome_componente'] == componente.value]\n",
    "    df_docente = df_componente[df_componente['nome_docente'] == docente.value]\n",
    "\n",
    "    data = df_docente.drop_duplicates(subset='discente')\n",
    "\n",
    "    contagem_descricao = data['descricao'].value_counts()\n",
    "    porcentagens = (contagem_descricao / contagem_descricao.sum()) * 100\n",
    "    \n",
    "    fig, ax = plt.subplots(figsize=(10, 6))\n",
    "    wedges, texts, autotexts = ax.pie(porcentagens, labels=porcentagens.index, autopct='%1.1f%%', startangle=90, wedgeprops=dict(width=0.4))\n",
    "    \n",
    "    for text, autotext in zip(texts, autotexts):\n",
    "        text.set(size=10)\n",
    "        autotext.set(size=10)\n",
    "    \n",
    "    legend_labels = [f\"{label}: {value}\" for label, value in zip(contagem_descricao.index, contagem_descricao.values)]\n",
    "    ax.legend(wedges, legend_labels, title=\"Descrições\", loc=\"center left\", bbox_to_anchor=(1, 0, 0.5, 1))\n",
    "    solara.FigureMatplotlib(fig)"
   ]
  },
  {
   "cell_type": "code",
   "execution_count": null,
   "id": "79a641f3-0682-4e5c-a0c8-ab1edf7de956",
   "metadata": {},
   "outputs": [],
   "source": [
    "#| export\n",
    "@solara.component\n",
    "def Page():\n",
    "    SelectUnidade()\n",
    "    SelectComponente()\n",
    "    SelectDocente()\n",
    "    PieChart()"
   ]
  },
  {
   "cell_type": "code",
   "execution_count": null,
   "id": "ac59dcaa-0211-4ebb-8fa8-153e0615803e",
   "metadata": {},
   "outputs": [],
   "source": [
    "#| export\n",
    "Page()"
   ]
  }
 ],
 "metadata": {
  "kernelspec": {
   "display_name": "python3",
   "language": "python",
   "name": "python3"
  }
 },
 "nbformat": 4,
 "nbformat_minor": 5
}
