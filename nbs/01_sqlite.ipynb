{
 "cells": [
  {
   "cell_type": "code",
   "execution_count": null,
   "id": "88dcd516-4171-44f5-b72e-9608159387c2",
   "metadata": {},
   "outputs": [],
   "source": [
    "#| default_exp storage"
   ]
  },
  {
   "cell_type": "markdown",
   "id": "ab923798-b33c-4aa2-acc4-416857613c4e",
   "metadata": {},
   "source": [
    "# Sqlite\n",
    "\n",
    "> Essa seção carrega as informações para o banco e permite usuários de realizem queries nas informações."
   ]
  },
  {
   "cell_type": "code",
   "execution_count": null,
   "id": "47b31c34-cdd6-4919-8b10-64f5784b709a",
   "metadata": {},
   "outputs": [],
   "source": [
    "#| exporti\n",
    "import sqlite3\n",
    "import pandas as pd"
   ]
  },
  {
   "cell_type": "code",
   "execution_count": null,
   "id": "3e45e4be-db25-4545-be58-ed0d4219b92a",
   "metadata": {},
   "outputs": [],
   "source": [
    "import tempfile"
   ]
  },
  {
   "cell_type": "code",
   "execution_count": null,
   "id": "99dc1d00-da29-4290-b964-82c240138eb9",
   "metadata": {},
   "outputs": [],
   "source": [
    "#| export\n",
    "class ReadOnlyInMemorySQLite:\n",
    "    def __init__(self):\n",
    "        self.connection = sqlite3.connect(':memory:?cache=shared', uri=True)\n",
    "        self.load_csv_as_table('turma_matricula_docente_filtrados.csv', 'data')\n",
    "\n",
    "    def load_csv_as_table(self, csv_path, table_name):\n",
    "        df = pd.read_csv(csv_path)\n",
    "        df.to_sql(table_name, self.connection, if_exists='replace', index=False)\n",
    "    \n",
    "    def execute_query(self, query):\n",
    "        with self.connection:\n",
    "            cursor = self.connection.cursor()\n",
    "            cursor.execute(query)\n",
    "            return cursor.fetchall()"
   ]
  },
  {
   "cell_type": "markdown",
   "id": "051a520a-9353-42bc-8cf1-d3ca542534ec",
   "metadata": {},
   "source": [
    "Precisa-se checar se a máquina que vai receber a aplicação tem memória suficiente para roda-la."
   ]
  },
  {
   "cell_type": "code",
   "execution_count": null,
   "id": "5219fabf-8ce8-42b5-bfce-3aeb62acf686",
   "metadata": {},
   "outputs": [],
   "source": [
    "def get_memory_usage_of_db(connection):\n",
    "    with tempfile.NamedTemporaryFile(delete=True) as temp_file:\n",
    "        file_connection = sqlite3.connect(temp_file.name)\n",
    "        connection.backup(file_connection)\n",
    "        file_connection.close()\n",
    "\n",
    "        size_in_bytes = os.path.getsize(temp_file.name)\n",
    "        size_in_mb = size_in_bytes / (1024 * 1024)\n",
    "\n",
    "        return size_in_mb\n",
    "\n",
    "db = ReadOnlyInMemorySQLite()\n",
    "memory_usage = get_memory_usage_of_db(db.connection)\n",
    "print(f\"Memory usage of the database: {memory_usage} bytes\")"
   ]
  }
 ],
 "metadata": {
  "kernelspec": {
   "display_name": "python3",
   "language": "python",
   "name": "python3"
  }
 },
 "nbformat": 4,
 "nbformat_minor": 5
}
