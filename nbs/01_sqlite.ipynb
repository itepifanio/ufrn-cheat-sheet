{
 "cells": [
  {
   "cell_type": "raw",
   "id": "3858b062-efad-473b-ae61-f55a6f75ab72",
   "metadata": {},
   "source": [
    "---\n",
    "skip_exec: true\n",
    "skip_showdoc: true\n",
    "---"
   ]
  },
  {
   "cell_type": "code",
   "execution_count": null,
   "id": "88dcd516-4171-44f5-b72e-9608159387c2",
   "metadata": {},
   "outputs": [],
   "source": [
    "#| default_exp storage"
   ]
  },
  {
   "cell_type": "markdown",
   "id": "ab923798-b33c-4aa2-acc4-416857613c4e",
   "metadata": {},
   "source": [
    "# Sqlite\n",
    "\n",
    "> Essa seção carrega as informações para o banco e permite usuários de realizem queries nas informações."
   ]
  },
  {
   "cell_type": "code",
   "execution_count": null,
   "id": "47b31c34-cdd6-4919-8b10-64f5784b709a",
   "metadata": {},
   "outputs": [],
   "source": [
    "#| exporti\n",
    "import sqlite3\n",
    "import pandas as pd"
   ]
  },
  {
   "cell_type": "code",
   "execution_count": null,
   "id": "3e45e4be-db25-4545-be58-ed0d4219b92a",
   "metadata": {},
   "outputs": [],
   "source": [
    "#| hide\n",
    "import tempfile"
   ]
  },
  {
   "cell_type": "markdown",
   "id": "b757caae-2904-447b-bdea-7e6505a2c780",
   "metadata": {},
   "source": [
    "## Wrapper\n",
    "\n",
    "A seguinte seção adiciona uma cada de abstração para a execução de queries SQLite. A presente aplicação requer o carregamento inicial do conjunto de dados abertos da UFRN, que é então disponibilizado para leitura de diversos usuários."
   ]
  },
  {
   "cell_type": "code",
   "execution_count": null,
   "id": "99dc1d00-da29-4290-b964-82c240138eb9",
   "metadata": {},
   "outputs": [],
   "source": [
    "#| export\n",
    "class ReadOnlyInMemorySQLite:\n",
    "    def __init__(self):\n",
    "        self.connection = sqlite3.connect('file:storage.db?mode=memory&cache=shared', uri=False)\n",
    "        self.load_csv_as_table('turma_matricula_docente_filtrados.csv', 'data')\n",
    "\n",
    "    def load_csv_as_table(self, csv_path, table_name):\n",
    "        df = pd.read_csv(csv_path)\n",
    "        df.to_sql(table_name, self.connection, if_exists='replace', index=False)\n",
    "\n",
    "    def execute_query(self, query):\n",
    "        with self.connection:\n",
    "            cursor = self.connection.cursor()\n",
    "            cursor.execute(query)\n",
    "            return cursor.fetchall()"
   ]
  },
  {
   "cell_type": "markdown",
   "id": "051a520a-9353-42bc-8cf1-d3ca542534ec",
   "metadata": {},
   "source": [
    "Precisa-se checar se a máquina que vai receber a aplicação tem memória suficiente para roda-la."
   ]
  },
  {
   "cell_type": "code",
   "execution_count": null,
   "id": "5219fabf-8ce8-42b5-bfce-3aeb62acf686",
   "metadata": {},
   "outputs": [],
   "source": [
    "def get_memory_usage_of_db(connection):\n",
    "    with tempfile.NamedTemporaryFile(delete=True) as temp_file:\n",
    "        file_connection = sqlite3.connect(temp_file.name)\n",
    "        connection.backup(file_connection)\n",
    "        file_connection.close()\n",
    "\n",
    "        size_in_bytes = os.path.getsize(temp_file.name)\n",
    "        size_in_mb = size_in_bytes / (1024 * 1024)\n",
    "\n",
    "        return size_in_mb\n",
    "\n",
    "db = ReadOnlyInMemorySQLite()\n",
    "memory_usage = get_memory_usage_of_db(db.connection)\n",
    "print(f\"Memory usage of the database: {memory_usage} bytes\")"
   ]
  },
  {
   "cell_type": "code",
   "execution_count": null,
   "id": "812acac0-27fb-48b6-8d8b-f6f3da1873de",
   "metadata": {},
   "outputs": [],
   "source": [
    "db.execute_query(f'SELECT unidade_responsavel FROM data LIMIT 1')"
   ]
  },
  {
   "cell_type": "code",
   "execution_count": null,
   "id": "6d21e937-3ea2-4ed9-b405-4d72753023cd",
   "metadata": {},
   "outputs": [],
   "source": [
    "unidade_responsavel = 'DEPARTAMENTO DE ARQUITETURA'\n",
    "nome_componente = 'ATELIER INTEGRADO DE ARQUITETURA E URBANISMO'\n",
    "docente = 'BIANCA CARLA DANTAS DE ARAUJO'"
   ]
  },
  {
   "cell_type": "code",
   "execution_count": null,
   "id": "dd7ecf26-e67e-4a17-a2ab-940f725e2e6a",
   "metadata": {},
   "outputs": [],
   "source": [
    "q = f\"\"\"SELECT descricao, COUNT(*) as contagem\n",
    "FROM (\n",
    "    SELECT DISTINCT discente, descricao\n",
    "    FROM data\n",
    "    WHERE unidade_responsavel = '{unidade_responsavel}'\n",
    "    AND nome_componente = '{nome_componente}'\n",
    "    AND nome_docente = '{docente}'\n",
    ")\n",
    "GROUP BY descricao;\"\"\""
   ]
  },
  {
   "cell_type": "code",
   "execution_count": null,
   "id": "3e979be6-5380-4c9e-b6bc-60b0a6e2734c",
   "metadata": {},
   "outputs": [],
   "source": [
    "db.execute_query(q)"
   ]
  },
  {
   "cell_type": "code",
   "execution_count": null,
   "id": "6924947e-73c8-4dd1-b904-bab36b57a7ee",
   "metadata": {},
   "outputs": [],
   "source": [
    "db.execute_query(\"SELECT DISTINCT(nome_componente) from data WHERE unidade_responsavel = 'DEPARTAMENTO DE INFORMÁTICA E MATEMÁTICA APLICADA' ORDER BY nome_componente\")"
   ]
  }
 ],
 "metadata": {
  "kernelspec": {
   "display_name": "python3",
   "language": "python",
   "name": "python3"
  }
 },
 "nbformat": 4,
 "nbformat_minor": 5
}
