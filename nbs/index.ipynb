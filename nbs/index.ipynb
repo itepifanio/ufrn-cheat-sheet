{
 "cells": [
  {
   "cell_type": "markdown",
   "metadata": {},
   "source": [
    "# UFRN Cheat Sheet"
   ]
  },
  {
   "cell_type": "markdown",
   "metadata": {},
   "source": [
    "UFRN Cheat Sheet ou \"Folha de Trapaça da UFRN\" é uma aplicação que permite que alunos verifiquem a taxa de aprovação dos professores antes de se matricularem nas suas disciplinas.\n",
    "\n",
    "Os dados utilizados foram obtidos a partir do portal [dados abertos da UFRN](https://dados.ufrn.br/).\n",
    "\n",
    "![](nbs/images/aplicacao.png)"
   ]
  }
 ],
 "metadata": {
  "kernelspec": {
   "display_name": "python3",
   "language": "python",
   "name": "python3"
  }
 },
 "nbformat": 4,
 "nbformat_minor": 4
}
