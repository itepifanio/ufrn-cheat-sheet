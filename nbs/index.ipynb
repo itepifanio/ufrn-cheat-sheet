{
 "cells": [
  {
   "cell_type": "markdown",
   "metadata": {},
   "source": [
    "# UFRN Cheat Sheet"
   ]
  },
  {
   "cell_type": "markdown",
   "metadata": {},
   "source": [
    "UFRN Cheat Sheet ou \"Folha de Trapaça da UFRN\" é uma aplicação que permite que alunos verifiquem a taxa de aprovação dos professores antes de se matricularem nas suas disciplinas.\n",
    "\n",
    "Os dados utilizados foram obtidos a partir do portal [dados abertos da UFRN](https://dados.ufrn.br/).\n",
    "\n",
    "Acesse a aplicação aqui: [https://sparkling-heart-8984.ploomberapp.io/](https://sparkling-heart-8984.ploomberapp.io/)\n",
    "\n",
    "![](https://raw.githubusercontent.com/itepifanio/ufrn-cheat-sheet/main/nbs/images/aplicacao.png)\n",
    "\n",
    "## Documentação\n",
    "\n",
    "Documentação do sistema está disponível em: [https://itepifanio.github.io/ufrn-cheat-sheet](https://itepifanio.github.io/ufrn-cheat-sheet)\n",
    "\n",
    "## Instalação e execução\n",
    "\n",
    "Todas as dependências estão listadas em `requirements.txt`. Crei seu ambiente virtual python e execute `pip install -r requirements.txt`. \n",
    "\n",
    "O código é desenvolvido em Jupyter notebooks (`nbs/*.ipynb`) e exportados utilizando a biblioteca [nbdev](https://nbdev.fast.ai/). Execute os notebooks para entender o código e estrutra geral da aplicação.\n",
    "\n",
    "Existe um dockerfile disponível para instalar e executar a aplicação [solara](https://solara.dev/), para executa-lo modifique a porta e execute `docker build -t ufrncs . && docker run ufrncs`.\n",
    "\n",
    "## Roadmap\n",
    "\n",
    "Atualmente a aplicação apenas utiliza os dados do semestre 2022.2, em atualizações futuras: \n",
    "\n",
    "- [ ] Adição de mais semestres para melhorar a busca das taxas de aprovações\n",
    "- [ ] Melhorar filtragem dos dados (eliminando turmas sem professores, matriculas canceladas, etc)\n",
    "- [ ] Combinar docentes que deram disciplinas juntos\n",
    "- [ ] Omissão da seleção do curso através do login via SIGAA\n"
   ]
  }
 ],
 "metadata": {
  "kernelspec": {
   "display_name": "python3",
   "language": "python",
   "name": "python3"
  }
 },
 "nbformat": 4,
 "nbformat_minor": 4
}
