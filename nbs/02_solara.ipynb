{
 "cells": [
  {
   "cell_type": "raw",
   "id": "ce01a49d-cfd6-479d-8426-30ae4e1b2d43",
   "metadata": {},
   "source": [
    "---\n",
    "skip_exec: true\n",
    "---"
   ]
  },
  {
   "cell_type": "markdown",
   "id": "c4a0113d-e7e7-4f72-abf6-a57d558a387d",
   "metadata": {},
   "source": [
    "# Solara\n",
    "\n",
    "> Solara é uma biblioteca python que permitem a criação de aplicações de dados. Ele é utilizado para exibir as taxas de aprovações do professores."
   ]
  },
  {
   "cell_type": "code",
   "execution_count": null,
   "id": "2d2b9128",
   "metadata": {},
   "outputs": [],
   "source": [
    "#| default_exp solara"
   ]
  },
  {
   "cell_type": "code",
   "execution_count": null,
   "id": "742ff691-6918-40b1-988a-654f064a9f4a",
   "metadata": {},
   "outputs": [],
   "source": [
    "#| exporti\n",
    "from typing import Union, Tuple\n",
    "\n",
    "import solara\n",
    "import pandas as pd\n",
    "import matplotlib.pyplot as plt\n",
    "\n",
    "from ufrn_cheat_sheet.storage import ReadOnlyInMemorySQLite"
   ]
  },
  {
   "cell_type": "code",
   "execution_count": null,
   "id": "2cc1f659-35ab-47b0-bf7a-9ccdfa6446c1",
   "metadata": {},
   "outputs": [],
   "source": [
    "#| export\n",
    "#| skip_exec: true\n",
    "#| skip_showdoc: true\n",
    "db = ReadOnlyInMemorySQLite()"
   ]
  },
  {
   "cell_type": "code",
   "execution_count": null,
   "id": "c4acbd16-631c-4dc7-8cca-46ebec7b5f8a",
   "metadata": {},
   "outputs": [],
   "source": [
    "#| exporti\n",
    "def db_get(data: Union[Tuple, solara.Reactive]):\n",
    "    if data.value and isinstance(data.value, list):\n",
    "        return data.value[0]\n",
    "\n",
    "    return data.value"
   ]
  },
  {
   "cell_type": "code",
   "execution_count": null,
   "id": "e3096cdb-a442-46bf-ac32-cee04f2ed427",
   "metadata": {},
   "outputs": [],
   "source": [
    "#| export\n",
    "unidade = solara.reactive(None)\n",
    "componente = solara.reactive(None)\n",
    "docente = solara.reactive(None)"
   ]
  },
  {
   "cell_type": "markdown",
   "id": "541e9070",
   "metadata": {},
   "source": [
    "## Componentes\n",
    "\n",
    "Solara trabalha com o conceito de componentes. A atualização de uma variável reativa atualiza os componentes que a utilizam, dessa forma a mudança de uma unidade modifica a lista de componentes disponíveis, e a escolha de um componente modifica a lista de docentes, por fim, a seleção de um docente apresenta o plot da taxa de aprovação."
   ]
  },
  {
   "cell_type": "code",
   "execution_count": null,
   "id": "df16bfb3-032d-46fd-ae7c-db8b3bd93cbd",
   "metadata": {},
   "outputs": [],
   "source": [
    "#| export\n",
    "@solara.component\n",
    "def SelectUnidade():\n",
    "    values = db.execute_query('SELECT DISTINCT(unidade_responsavel) from data ORDER BY unidade_responsavel')\n",
    "    solara.Select(label=\"Unidade\", value=unidade, values=values)"
   ]
  },
  {
   "cell_type": "code",
   "execution_count": null,
   "id": "e0a92d5e-4eea-4684-bb2a-2dfad9867a12",
   "metadata": {},
   "outputs": [],
   "source": [
    "#| export\n",
    "@solara.component\n",
    "def SelectComponente():\n",
    "    values = db.execute_query(\n",
    "        f\"\"\"\n",
    "        SELECT DISTINCT(nome_componente) from data \n",
    "        WHERE unidade_responsavel = '{db_get(unidade)}' \n",
    "        ORDER BY nome_componente\n",
    "        \"\"\"\n",
    "    )\n",
    "    solara.Select(label=\"Componente\", value=componente, values=values)"
   ]
  },
  {
   "cell_type": "code",
   "execution_count": null,
   "id": "f81155f4-aed0-4803-a15b-ffc2a6be94f7",
   "metadata": {},
   "outputs": [],
   "source": [
    "#| export\n",
    "@solara.component\n",
    "def SelectDocente():\n",
    "    values = db.execute_query(\n",
    "        f\"\"\"\n",
    "        SELECT DISTINCT(nome_docente) from data \n",
    "        WHERE \n",
    "            unidade_responsavel = '{db_get(unidade)}' \n",
    "            AND \n",
    "            nome_componente = '{db_get(componente)}' \n",
    "        ORDER BY nome_componente\n",
    "        \"\"\"\n",
    "    )\n",
    "    solara.Select(label=\"Docente\", value=docente, values=values)"
   ]
  },
  {
   "cell_type": "code",
   "execution_count": null,
   "id": "2ec21910-fba2-4b0f-8c47-d88f6d8f0f30",
   "metadata": {},
   "outputs": [],
   "source": [
    "#| export\n",
    "def PieChart():\n",
    "    #solara.use_state(docente)\n",
    "    \n",
    "    q = f\"\"\"SELECT descricao, COUNT(*) as contagem\n",
    "    FROM (\n",
    "        SELECT DISTINCT discente, descricao\n",
    "        FROM data\n",
    "        WHERE unidade_responsavel = '{db_get(unidade)}'\n",
    "        AND nome_componente = '{db_get(componente)}'\n",
    "        AND nome_docente = '{db_get(docente)}'\n",
    "    )\n",
    "    GROUP BY descricao;\n",
    "    \"\"\"\n",
    "\n",
    "    data = pd.read_sql_query(q, db.connection)\n",
    "\n",
    "    data['porcentagem'] = (data['contagem'] / data['contagem'].sum()) * 100\n",
    "\n",
    "    contagem_descricao = data['descricao'].value_counts()\n",
    "    porcentagens = (contagem_descricao / contagem_descricao.sum()) * 100\n",
    "    \n",
    "    fig, ax = plt.subplots(figsize=(10, 6))\n",
    "    wedges, texts, autotexts = ax.pie(porcentagens, labels=porcentagens.index, autopct='%1.1f%%', startangle=90, wedgeprops=dict(width=0.4))\n",
    "    \n",
    "    for text, autotext in zip(texts, autotexts):\n",
    "        text.set(size=10)\n",
    "        autotext.set(size=10)\n",
    "    \n",
    "    legend_labels = [f\"{label}: {value}\" for label, value in zip(contagem_descricao.index, contagem_descricao.values)]\n",
    "    ax.legend(wedges, legend_labels, title=\"Descrições\", loc=\"center left\", bbox_to_anchor=(1, 0, 0.5, 1))\n",
    "    solara.FigureMatplotlib(fig)"
   ]
  },
  {
   "cell_type": "markdown",
   "id": "1e68ddd1",
   "metadata": {},
   "source": [
    "## Page\n",
    "\n",
    "Solara trabalha o conceito de `Page()` para combinar os componentes em uma página, estiliza-los e adicionar a estrutura em um layout. Esse é o resultado final da aplicação."
   ]
  },
  {
   "cell_type": "code",
   "execution_count": null,
   "id": "79a641f3-0682-4e5c-a0c8-ab1edf7de956",
   "metadata": {},
   "outputs": [],
   "source": [
    "#| export\n",
    "@solara.component\n",
    "def Page():\n",
    "    with solara.AppBarTitle():\n",
    "        solara.Text(\"UFRN Cheat Sheet\")\n",
    "\n",
    "    with solara.Column():\n",
    "        with solara.Row():\n",
    "            SelectUnidade()\n",
    "            SelectComponente()\n",
    "            SelectDocente()\n",
    "        PieChart()"
   ]
  },
  {
   "cell_type": "code",
   "execution_count": null,
   "id": "ac59dcaa-0211-4ebb-8fa8-153e0615803e",
   "metadata": {},
   "outputs": [],
   "source": [
    "#| export\n",
    "Page()"
   ]
  },
  {
   "cell_type": "code",
   "execution_count": null,
   "id": "fc192368-251c-4d46-9ee6-69a8fc215c87",
   "metadata": {},
   "outputs": [],
   "source": []
  }
 ],
 "metadata": {
  "kernelspec": {
   "display_name": "python3",
   "language": "python",
   "name": "python3"
  }
 },
 "nbformat": 4,
 "nbformat_minor": 5
}
