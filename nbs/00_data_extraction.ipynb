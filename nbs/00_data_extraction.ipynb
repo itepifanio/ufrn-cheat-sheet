{
 "cells": [
  {
   "cell_type": "raw",
   "id": "7342ac5f-05df-4040-a92f-0d6ff29b60ff",
   "metadata": {},
   "source": [
    "---\n",
    "skip_exec: true\n",
    "---"
   ]
  },
  {
   "cell_type": "code",
   "execution_count": null,
   "id": "1651e014",
   "metadata": {},
   "outputs": [],
   "source": [
    "#| default_exp pull_data"
   ]
  },
  {
   "cell_type": "markdown",
   "id": "0df80a12",
   "metadata": {},
   "source": [
    "# Extração dos dados\n",
    "\n",
    "> Esse notebook realiza o download de todos os arquivos relacionados a matrícula, posteriormente limpando e conectando os dados em uma única tabela"
   ]
  },
  {
   "cell_type": "code",
   "execution_count": null,
   "id": "1a21a07e-303c-429b-9584-f7d56f496abe",
   "metadata": {},
   "outputs": [],
   "source": [
    "#| exporti\n",
    "import os\n",
    "\n",
    "import requests\n",
    "import pandas as pd\n",
    "import matplotlib.pyplot as plt"
   ]
  },
  {
   "cell_type": "markdown",
   "id": "b7a74d89-f411-48db-adaa-fb9d14153769",
   "metadata": {},
   "source": [
    "## Matriculas\n",
    "\n",
    "As células a seguir realizam o download das [matrículas](https://dados.ufrn.br/dataset/matriculas-componentes) de determinados semestres.\n",
    "\n",
    "Cada matrícula é associada a uma turma, um discente (anonimizado) e um curso."
   ]
  },
  {
   "cell_type": "code",
   "execution_count": null,
   "id": "f358663b-2d13-48d3-aace-6338cca06529",
   "metadata": {},
   "outputs": [],
   "source": [
    "#| export\n",
    "matriculas = {\n",
    "    '2022.2': {\n",
    "        'filename': 'matriculas-2022.2.csv',\n",
    "        'url': 'https://dados.ufrn.br/dataset/c8650d55-3c5a-4787-a126-d28a4ef902a6/resource/b159805b-e7cb-4d71-872b-14a1a2625d7e/download/matriculas-2022.2.csv'\n",
    "    },\n",
    "}\n",
    "\n",
    "\"\"\"\n",
    "'2022.1': {\n",
    "    'filename': 'matriculas-2022.1.csv',\n",
    "    'url': 'https://dados.ufrn.br/dataset/c8650d55-3c5a-4787-a126-d28a4ef902a6/resource/c3b45170-5417-4f2a-a53e-c8edbf6c501a/download/matriculas-2022.1.csv'\n",
    "},\n",
    "'2021.1': {\n",
    "    'filename': 'matriculas-2021-1.csv',\n",
    "    'url': 'https://dados.ufrn.br/dataset/c8650d55-3c5a-4787-a126-d28a4ef902a6/resource/ffd73a99-325b-4835-9338-036be30fdec8/download/matriculas-2021-1.csv',\n",
    "},\n",
    "'2021.2': {\n",
    "    'filename': 'matriculas-2021-2.csv',\n",
    "    'url': 'https://dados.ufrn.br/dataset/c8650d55-3c5a-4787-a126-d28a4ef902a6/resource/d5a9b2ae-4bd7-4a43-b169-2f6a5c9d1379/download/matriculas-2021-2.csv',\n",
    "}\n",
    "\"\"\"\n",
    "\n",
    "for semestre, matricula in matriculas.items():\n",
    "    if matricula['filename'] not in os.listdir('.'):\n",
    "        response = requests.get(matricula['url'], verify=False)\n",
    "        with open(matricula['filename'], \"wb\") as file:\n",
    "            file.write(response.content)"
   ]
  },
  {
   "cell_type": "code",
   "execution_count": null,
   "id": "d263c641-400e-47fb-914a-34469ef50837",
   "metadata": {},
   "outputs": [],
   "source": [
    "#| export\n",
    "matricula_files = [matricula['filename'] for _, matricula in matriculas.items()]\n",
    "df_matriculas = pd.concat((pd.read_csv(f, sep=';') for f in matricula_files), ignore_index=True)"
   ]
  },
  {
   "cell_type": "code",
   "execution_count": null,
   "id": "f17fc8e9-e378-4258-bb9f-60690b79c3b7",
   "metadata": {},
   "outputs": [],
   "source": [
    "df_matriculas.head()"
   ]
  },
  {
   "cell_type": "markdown",
   "id": "a132ccc0-82c8-464c-b410-d01a14c06eb0",
   "metadata": {},
   "source": [
    "## Turmas\n",
    "\n",
    "Para saber qual componente currícular as notas e status (aprovado ou não) são relacionadas é preciso baixar as informações de turmas. Dessa tabela apenas as informações relacionadas ao componente currícular são pertinentes e serão, portanto, logo filtradas."
   ]
  },
  {
   "cell_type": "code",
   "execution_count": null,
   "id": "19a4c362-a883-4b05-a257-d3aac7606080",
   "metadata": {},
   "outputs": [],
   "source": [
    "#| export\n",
    "turmas = {\n",
    "    '2022.2': {\n",
    "        'url': 'https://dados.ufrn.br/dataset/1938623d-fb07-41a4-a55a-1691f7c3b8b5/resource/991cb0c0-ea9d-4507-8ff2-a24b288d90b5/download/turmas-2022.2.csv',\n",
    "        'filename': 'turmas-2022.2.csv',\n",
    "    },\n",
    "    \n",
    "}\n",
    "\n",
    "\"\"\"\n",
    "'2022.1': {\n",
    "    'url': 'https://dados.ufrn.br/dataset/1938623d-fb07-41a4-a55a-1691f7c3b8b5/resource/222b1028-ca3c-4acc-bfb2-fa4e45d7cd0d/download/turmas-2022.1.csv',\n",
    "    'filename': 'turmas-2022.1.csv',\n",
    "},\n",
    "'2021.1': {\n",
    "    'filename': 'turmas-2021.1.csv',\n",
    "    'url': 'https://dados.ufrn.br/dataset/1938623d-fb07-41a4-a55a-1691f7c3b8b5/resource/21a54fb0-84b9-4eab-a697-9851b932729d/download/turmas-2021.1.csv',\n",
    "},\n",
    "'2021.2': {\n",
    "    'filename': 'turmas-2022.2.csv',\n",
    "    'url': 'https://dados.ufrn.br/dataset/1938623d-fb07-41a4-a55a-1691f7c3b8b5/resource/2d657f25-de50-4dd8-b3bf-e272ddc9fb27/download/turmas-2021.2.csv',\n",
    "}\n",
    "\"\"\"\n",
    "\n",
    "for semestre, turma in turmas.items():\n",
    "    if turma['filename'] not in os.listdir('.'):\n",
    "        response = requests.get(turma['url'], verify=False)\n",
    "        with open(turma['filename'], \"wb\") as file:\n",
    "            file.write(response.content)"
   ]
  },
  {
   "cell_type": "code",
   "execution_count": null,
   "id": "fc69a38b-094e-4f2c-af9e-59aa24f88db0",
   "metadata": {},
   "outputs": [],
   "source": [
    "#| export\n",
    "turma_files = [turma['filename'] for _, turma in turmas.items()]\n",
    "df_turmas = pd.concat((pd.read_csv(f, sep=';') for f in turma_files), ignore_index=True)"
   ]
  },
  {
   "cell_type": "code",
   "execution_count": null,
   "id": "8da5d609-169e-45f7-b3dc-0369ddc08681",
   "metadata": {},
   "outputs": [],
   "source": [
    "df_turmas.head()"
   ]
  },
  {
   "cell_type": "code",
   "execution_count": null,
   "id": "557cdf08-a982-4553-a11e-8c550179b944",
   "metadata": {},
   "outputs": [],
   "source": [
    "#| export\n",
    "df_turmas = df_turmas[df_turmas['situacao_turma'] == 'CONSOLIDADA']\n",
    "df_turmas = df_turmas.loc[:, ['id_turma', 'siape', 'id_componente_curricular', 'ano', 'periodo']]\n",
    "df_turmas.head()"
   ]
  },
  {
   "cell_type": "markdown",
   "id": "92135bcc-eb90-4506-9edc-09e78e83771c",
   "metadata": {},
   "source": [
    "## Componentes\n",
    "\n",
    "Para ter acesso ao nome do componente currícular é necessário baixar os componentes currículares. Note que apenas componente presenciais foram levados em conta no presente sistema."
   ]
  },
  {
   "cell_type": "code",
   "execution_count": null,
   "id": "f0cc46fa-97ce-4967-bab1-46c061833097",
   "metadata": {},
   "outputs": [],
   "source": [
    "#| export\n",
    "componente_filename = \"componentes-curriculares-presenciais.csv\"\n",
    "componente_url = \"https://dados.ufrn.br/dataset/3fea67e8-6916-4ed0-aaa6-9a8ca06a9bdc/resource/9a3521d2-4bc5-4fda-93f0-f701c8a20727/download/componentes-curriculares-presenciais.csv\"\n",
    "\n",
    "if componente_filename not in os.listdir('.'):\n",
    "    response = requests.get(componente_url, verify=False)\n",
    "    with open(componente_filename, \"wb\") as file:\n",
    "        file.write(response.content)"
   ]
  },
  {
   "cell_type": "code",
   "execution_count": null,
   "id": "dc4aa939-6b66-4c21-8ef9-baab7b7d2b42",
   "metadata": {},
   "outputs": [],
   "source": [
    "#| export\n",
    "df_componentes_curriculares_presenciais = pd.read_csv('componentes-curriculares-presenciais.csv', sep=';')"
   ]
  },
  {
   "cell_type": "code",
   "execution_count": null,
   "id": "64b08cba-86cf-410a-bf7d-0da6423bedbd",
   "metadata": {},
   "outputs": [],
   "source": [
    "df_componentes_curriculares_presenciais.head()"
   ]
  },
  {
   "cell_type": "code",
   "execution_count": null,
   "id": "2e3e4932-ca34-4a77-b822-58d32628086e",
   "metadata": {},
   "outputs": [],
   "source": [
    "#| export\n",
    "df_componentes_curriculares_presenciais = df_componentes_curriculares_presenciais.loc[:, ['id_componente', 'nome', 'codigo', 'unidade_responsavel']]"
   ]
  },
  {
   "cell_type": "markdown",
   "id": "8447853a-d0a6-4cd8-8cfc-ed97a2473063",
   "metadata": {},
   "source": [
    "## Docente\n",
    "\n",
    "A lista dos docentes da UFRN é baixada para ter acesso ao nome dos professores responsáveis pelo componente currícular."
   ]
  },
  {
   "cell_type": "code",
   "execution_count": null,
   "id": "12e716bf-49e3-4e56-bcd7-e25bcc2f0b65",
   "metadata": {},
   "outputs": [],
   "source": [
    "#| export\n",
    "docente_filename = \"docentes.csv\"\n",
    "docente_url = \"https://dados.ufrn.br/dataset/8bf1a468-48ff-4f4d-95ee-b17b7a3a5592/resource/6a8e5461-e748-45c6-aac6-432188d88dde/download/docentes.csv\"\n",
    "\n",
    "if docente_filename not in os.listdir('.'):\n",
    "    response = requests.get(docente_url, verify=False)\n",
    "    with open(docente_filename, \"wb\") as file:\n",
    "        file.write(response.content)"
   ]
  },
  {
   "cell_type": "code",
   "execution_count": null,
   "id": "362bf6e2-41b7-47b7-9c0a-d8e0642c53e8",
   "metadata": {},
   "outputs": [],
   "source": [
    "#| export\n",
    "df_docentes = pd.read_csv('docentes.csv', sep=';')"
   ]
  },
  {
   "cell_type": "code",
   "execution_count": null,
   "id": "7985f55d-e7b9-49db-8754-7f51beb378d7",
   "metadata": {},
   "outputs": [],
   "source": [
    "#| export\n",
    "df_docentes = df_docentes.loc[:, ['siape', 'nome']]"
   ]
  },
  {
   "cell_type": "markdown",
   "id": "102e32f3-15dc-4d8d-b2bb-345edb610dfa",
   "metadata": {},
   "source": [
    "## Matricula + Turma + Componente + Docente\n",
    "\n",
    "A presente seção une os dados filtrados em um único `pd.DataFrame` e exporta-o como `.csv` permitindo que ele seja inserido em um banco de dados posteriormente."
   ]
  },
  {
   "cell_type": "code",
   "execution_count": null,
   "id": "8b9d0ef2-fa30-45d7-9589-0e56901b67fa",
   "metadata": {},
   "outputs": [],
   "source": [
    "#| export\n",
    "df = df_matriculas.merge(df_turmas, how='inner', on='id_turma')"
   ]
  },
  {
   "cell_type": "code",
   "execution_count": null,
   "id": "a20fba32",
   "metadata": {},
   "outputs": [],
   "source": [
    "df.head()"
   ]
  },
  {
   "cell_type": "code",
   "execution_count": null,
   "id": "725d0583-9a52-4b34-8180-26af71e2ba2b",
   "metadata": {},
   "outputs": [],
   "source": [
    "#| export\n",
    "df = df.merge(df_componentes_curriculares_presenciais, how='inner', left_on='id_componente_curricular', right_on='id_componente')"
   ]
  },
  {
   "cell_type": "code",
   "execution_count": null,
   "id": "590b7208",
   "metadata": {},
   "outputs": [],
   "source": [
    "df.head()"
   ]
  },
  {
   "cell_type": "code",
   "execution_count": null,
   "id": "cedd1508-52a2-43f5-ac54-6ea66dbf153e",
   "metadata": {},
   "outputs": [],
   "source": [
    "#| export\n",
    "df = df.merge(df_docentes, how='inner', on='siape', suffixes=('_componente', '_docente'))"
   ]
  },
  {
   "cell_type": "code",
   "execution_count": null,
   "id": "00a48412-ec05-447a-82ef-22099bd4a4ba",
   "metadata": {},
   "outputs": [],
   "source": [
    "df.head()"
   ]
  },
  {
   "cell_type": "code",
   "execution_count": null,
   "id": "2b217d7c-3c69-41e8-a82e-1bcf626ad30f",
   "metadata": {},
   "outputs": [],
   "source": [
    "#| export\n",
    "df.to_csv('turma_matricula_docente_filtrados.csv')"
   ]
  },
  {
   "cell_type": "markdown",
   "id": "31b76e27-3687-4263-bf3d-357787b8a824",
   "metadata": {},
   "source": [
    "## Análise exemplo\n",
    "\n",
    "O plot a seguir realiza a análise que pretende ser feita com o sistema, filtrando o dataframe com base em uma turma e curso específico."
   ]
  },
  {
   "cell_type": "code",
   "execution_count": null,
   "id": "fc57df42-f027-4a52-83ee-0a0f6da7167f",
   "metadata": {},
   "outputs": [],
   "source": [
    "id_turma_especifica = 57705399\n",
    "id_curso_especifico = 2000005\n",
    "id_docente_especifico = 2140673\n",
    "df_filtrado = df[(df['id_turma'] == id_turma_especifica) & (df['id_curso'] == id_curso_especifico) & (df['siape'] == id_docente_especifico)]\n",
    "\n",
    "contagem_descricao = df_filtrado['descricao'].value_counts()\n",
    "porcentagens = (contagem_descricao / contagem_descricao.sum()) * 100\n",
    "\n",
    "# Plota o gráfico de pizza\n",
    "fig, ax = plt.subplots(figsize=(10, 6))  # Ajustando o tamanho da figura\n",
    "wedges, _ = ax.pie(porcentagens, labels=porcentagens.index, startangle=90, wedgeprops=dict(width=0.4))\n",
    "\n",
    "ax.axis('equal')  # Equal aspect ratio ensures that pie is drawn as a circle.\n",
    "\n",
    "# Adiciona uma legenda à direita do gráfico de pizza\n",
    "legend_labels = [f\"{label}: {value}\" for label, value in zip(contagem_descricao.index, contagem_descricao.values)]\n",
    "ax.legend(wedges, legend_labels, title=\"Descrições\", loc=\"center left\", bbox_to_anchor=(1, 0, 0.5, 1))\n",
    "\n",
    "plt.title('Porcentagem por Descrição')\n",
    "plt.show()"
   ]
  }
 ],
 "metadata": {
  "kernelspec": {
   "display_name": "python3",
   "language": "python",
   "name": "python3"
  }
 },
 "nbformat": 4,
 "nbformat_minor": 5
}
